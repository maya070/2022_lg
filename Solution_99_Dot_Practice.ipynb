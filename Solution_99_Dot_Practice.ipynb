{
 "cells": [
  {
   "cell_type": "code",
   "execution_count": null,
   "metadata": {},
   "outputs": [],
   "source": []
  },
  {
   "cell_type": "code",
   "execution_count": 1,
   "metadata": {
    "ExecuteTime": {
     "end_time": "2022-09-07T05:38:30.298808Z",
     "start_time": "2022-09-07T05:38:29.359612Z"
    },
    "executionInfo": {
     "elapsed": 421,
     "status": "ok",
     "timestamp": 1627372281946,
     "user": {
      "displayName": "IDLY",
      "photoUrl": "https://lh3.googleusercontent.com/a-/AOh14Gi_uASS8xEhdc3V54PmrlTtzc2dMylBAtC2MBQk0w=s64",
      "userId": "01051119595489469234"
     },
     "user_tz": -540
    },
    "id": "d7U3b8FffmfV"
   },
   "outputs": [],
   "source": [
    "import torch\n",
    "import numpy\n",
    "from sklearn.datasets import make_blobs\n",
    "import matplotlib.pyplot as plt"
   ]
  },
  {
   "cell_type": "markdown",
   "metadata": {},
   "source": [
    "## 데이터 생성 및 시각화"
   ]
  },
  {
   "cell_type": "code",
   "execution_count": 2,
   "metadata": {
    "ExecuteTime": {
     "end_time": "2022-09-07T05:38:30.887098Z",
     "start_time": "2022-09-07T05:38:30.883257Z"
    },
    "executionInfo": {
     "elapsed": 5,
     "status": "ok",
     "timestamp": 1627372281947,
     "user": {
      "displayName": "IDLY",
      "photoUrl": "https://lh3.googleusercontent.com/a-/AOh14Gi_uASS8xEhdc3V54PmrlTtzc2dMylBAtC2MBQk0w=s64",
      "userId": "01051119595489469234"
     },
     "user_tz": -540
    },
    "id": "AcogT3YVfmfb"
   },
   "outputs": [],
   "source": [
    "# 2차원 데이터\n",
    "n_dim = 2\n",
    "# 샘플 데이터를 만들어주는 함수\n",
    "x_train, y_train = make_blobs(\n",
    "    n_samples=80, n_features=n_dim,\n",
    "    centers=[[0,0],[1,1],[1,0],[0,1]],\n",
    "    shuffle=True, cluster_std=0.15\n",
    ")\n",
    "x_test, y_test = make_blobs(\n",
    "    n_samples=20, n_features=n_dim,\n",
    "    centers=[[0,0],[1,1],[1,0],[0,1]],\n",
    "    shuffle=True, cluster_std=0.15\n",
    ")"
   ]
  },
  {
   "cell_type": "code",
   "execution_count": 3,
   "metadata": {
    "ExecuteTime": {
     "end_time": "2022-09-07T05:38:31.094950Z",
     "start_time": "2022-09-07T05:38:31.091836Z"
    },
    "colab": {
     "base_uri": "https://localhost:8080/"
    },
    "executionInfo": {
     "elapsed": 4,
     "status": "ok",
     "timestamp": 1627372281947,
     "user": {
      "displayName": "IDLY",
      "photoUrl": "https://lh3.googleusercontent.com/a-/AOh14Gi_uASS8xEhdc3V54PmrlTtzc2dMylBAtC2MBQk0w=s64",
      "userId": "01051119595489469234"
     },
     "user_tz": -540
    },
    "id": "dDBxQXrAip0_",
    "outputId": "df502abd-8829-4a7e-c40d-74260e60bf48"
   },
   "outputs": [
    {
     "name": "stdout",
     "output_type": "stream",
     "text": [
      "x: [0.81285497 0.07608161]        y: 2\n",
      "x: [0.89513741 0.85795686]        y: 1\n",
      "x: [-0.10727313  0.0584729 ]      y: 0\n",
      "x: [-0.06266637  1.19437139]      y: 3\n",
      "x: [ 0.09531442 -0.36850896]      y: 0\n",
      "x: [0.85809865 0.95638773]        y: 1\n",
      "x: [-0.10015598  0.6804442 ]      y: 3\n",
      "x: [ 0.24654902 -0.13345357]      y: 0\n",
      "x: [ 0.9365965  -0.31223501]      y: 2\n",
      "x: [1.03411052 0.9750699 ]        y: 1\n"
     ]
    }
   ],
   "source": [
    "# 데이터 초반부 훑어보기\n",
    "for x, y in list(zip(x_train, y_train))[:10]:\n",
    "    print(f'x: {str(x):30} y: {y}')"
   ]
  },
  {
   "cell_type": "code",
   "execution_count": 4,
   "metadata": {
    "ExecuteTime": {
     "end_time": "2022-09-07T05:38:31.313722Z",
     "start_time": "2022-09-07T05:38:31.310774Z"
    }
   },
   "outputs": [],
   "source": [
    "# 이진 분류를 할 것이므로 생성한 데이터의 0,1번 클래스는 0으로, 2,3번 클래스는 1로 재설정\n",
    "label_dict = {\n",
    "    0:0, 1:0,\n",
    "    2:1, 3:1\n",
    "}\n",
    "y_train = np.vectorize(lambda l: label_dict[l])(y_train)\n",
    "y_test = np.vectorize(lambda l: label_dict[l])(y_test)"
   ]
  },
  {
   "cell_type": "code",
   "execution_count": 5,
   "metadata": {
    "ExecuteTime": {
     "end_time": "2022-09-07T05:38:31.610168Z",
     "start_time": "2022-09-07T05:38:31.472148Z"
    },
    "colab": {
     "base_uri": "https://localhost:8080/",
     "height": 269
    },
    "executionInfo": {
     "elapsed": 445,
     "status": "ok",
     "timestamp": 1627372282756,
     "user": {
      "displayName": "IDLY",
      "photoUrl": "https://lh3.googleusercontent.com/a-/AOh14Gi_uASS8xEhdc3V54PmrlTtzc2dMylBAtC2MBQk0w=s64",
      "userId": "01051119595489469234"
     },
     "user_tz": -540
    },
    "id": "mP8zxnsbfmfc",
    "outputId": "2ffec0b9-4423-4deb-f67a-97ed234100bf"
   },
   "outputs": [
    {
     "data": {
      "image/png": "[encoded data removed]",
      "text/plain": [
       "<Figure size 432x288 with 1 Axes>"
      ]
     },
     "metadata": {
      "needs_background": "light"
     },
     "output_type": "display_data"
    }
   ],
   "source": [
    "def draw(x, y, style='o'):\n",
    "    for x_, y_ in zip(x,y):\n",
    "        plt.plot(x_[0], x_[1], 'b'+style if y_ == 0 else 'r'+style)\n",
    "\n",
    "plt.figure()\n",
    "# 데이터 생성 기준선\n",
    "plt.hlines(0, -2, 2, color='k', linestyles=':')\n",
    "plt.hlines(1, -2, 2, color='k', linestyles=':')\n",
    "plt.vlines(0, -2, 2, color='k', linestyles=':')\n",
    "plt.vlines(1, -2, 2, color='k', linestyles=':')\n",
    "# 학습 데이터는 원, 테스트데이터는 십자, 클래스 0은 파랑, 클래스 1은 빨강으로 표시\n",
    "draw(x_train, y_train, 'o')\n",
    "draw(x_test, y_test, '+')\n",
    "plt.xlim([-1, 2])\n",
    "plt.ylim([-1, 2])\n",
    "plt.show()"
   ]
  },
  {
   "cell_type": "markdown",
   "metadata": {},
   "source": [
    "## Pytorch에서 사용하기 위해 Tensor로 변환"
   ]
  },
  {
   "cell_type": "code",
   "execution_count": 18,
   "metadata": {
    "ExecuteTime": {
     "end_time": "2022-09-07T05:39:24.638953Z",
     "start_time": "2022-09-07T05:39:24.636332Z"
    },
    "colab": {
     "base_uri": "https://localhost:8080/"
    },
    "executionInfo": {
     "elapsed": 4,
     "status": "ok",
     "timestamp": 1627372282756,
     "user": {
      "displayName": "IDLY",
      "photoUrl": "https://lh3.googleusercontent.com/a-/AOh14Gi_uASS8xEhdc3V54PmrlTtzc2dMylBAtC2MBQk0w=s64",
      "userId": "01051119595489469234"
     },
     "user_tz": -540
    },
    "id": "YYtvQfymfmfe",
    "outputId": "5bd540d3-ad41-423f-fe78-19f41393a0b4"
   },
   "outputs": [
    {
     "name": "stdout",
     "output_type": "stream",
     "text": [
      "torch.Size([80, 2])\n"
     ]
    }
   ],
   "source": [
    "x_train = torch.FloatTensor(x_train)\n",
    "print(x_train.shape)\n",
    "x_test = torch.FloatTensor(x_test)\n",
    "y_train = torch.FloatTensor(y_train)\n",
    "y_test = torch.FloatTensor(y_test)"
   ]
  },
  {
   "cell_type": "code",
   "execution_count": 7,
   "metadata": {
    "ExecuteTime": {
     "end_time": "2022-09-07T05:38:32.096376Z",
     "start_time": "2022-09-07T05:38:32.093268Z"
    },
    "executionInfo": {
     "elapsed": 4,
     "status": "ok",
     "timestamp": 1627372283148,
     "user": {
      "displayName": "IDLY",
      "photoUrl": "https://lh3.googleusercontent.com/a-/AOh14Gi_uASS8xEhdc3V54PmrlTtzc2dMylBAtC2MBQk0w=s64",
      "userId": "01051119595489469234"
     },
     "user_tz": -540
    },
    "id": "CIUKBGnbfmff"
   },
   "outputs": [],
   "source": [
    "class NeuralNet(torch.nn.Module):\n",
    "        def __init__(self, input_dim, hidden_dim):\n",
    "            super(NeuralNet, self).__init__()\n",
    "            self.input_dim = input_dim\n",
    "            self.hidden_dim  = hidden_dim\n",
    "            \n",
    "            ##################################################################\n",
    "            self.layer1 = torch.nn.Linear(self.input_dim, self.hidden_dim)\n",
    "            self.layer2 = torch.nn.Linear(self.hidden_dim, 1)\n",
    "            self.relu = torch.nn.ReLU()\n",
    "            self.sigmoid = torch.nn.Sigmoid()\n",
    "            ##################################################################\n",
    "            \n",
    "        def forward(self, x):\n",
    "            ##################################################################\n",
    "            x = self.layer1(x)\n",
    "            x = self.relu(x)\n",
    "            x = self.layer2(x)\n",
    "            x = self.sigmoid(x)\n",
    "            ##################################################################\n",
    "            return x "
   ]
  },
  {
   "cell_type": "code",
   "execution_count": 8,
   "metadata": {
    "ExecuteTime": {
     "end_time": "2022-09-07T05:38:32.466352Z",
     "start_time": "2022-09-07T05:38:32.463205Z"
    },
    "executionInfo": {
     "elapsed": 296,
     "status": "ok",
     "timestamp": 1627372293897,
     "user": {
      "displayName": "IDLY",
      "photoUrl": "https://lh3.googleusercontent.com/a-/AOh14Gi_uASS8xEhdc3V54PmrlTtzc2dMylBAtC2MBQk0w=s64",
      "userId": "01051119595489469234"
     },
     "user_tz": -540
    },
    "id": "U4iWUny1fmff"
   },
   "outputs": [],
   "source": [
    "learning_rate = 3e-2\n",
    "epochs = 2000\n",
    "model = NeuralNet(2, 5)\n",
    "criterion = torch.nn.BCELoss()\n",
    "optimizer = torch.optim.SGD(model.parameters(), lr = learning_rate)"
   ]
  },
  {
   "cell_type": "code",
   "execution_count": 9,
   "metadata": {
    "ExecuteTime": {
     "end_time": "2022-09-07T05:38:33.979759Z",
     "start_time": "2022-09-07T05:38:33.974648Z"
    },
    "colab": {
     "base_uri": "https://localhost:8080/"
    },
    "executionInfo": {
     "elapsed": 292,
     "status": "ok",
     "timestamp": 1627372470698,
     "user": {
      "displayName": "IDLY",
      "photoUrl": "https://lh3.googleusercontent.com/a-/AOh14Gi_uASS8xEhdc3V54PmrlTtzc2dMylBAtC2MBQk0w=s64",
      "userId": "01051119595489469234"
     },
     "user_tz": -540
    },
    "id": "rouVuv379L3B",
    "outputId": "2c7d274c-e447-4445-bfc6-cae8a662ba5f"
   },
   "outputs": [
    {
     "data": {
      "text/plain": [
       "tensor([0.4856], grad_fn=<SigmoidBackward0>)"
      ]
     },
     "execution_count": 9,
     "metadata": {},
     "output_type": "execute_result"
    }
   ],
   "source": [
    "model(torch.tensor([0.1,0.1]))"
   ]
  },
  {
   "cell_type": "code",
   "execution_count": 10,
   "metadata": {
    "ExecuteTime": {
     "end_time": "2022-09-07T05:38:34.460213Z",
     "start_time": "2022-09-07T05:38:34.456224Z"
    }
   },
   "outputs": [
    {
     "data": {
      "text/plain": [
       "[Parameter containing:\n",
       " tensor([[ 0.3806,  0.1528],\n",
       "         [ 0.4764,  0.3332],\n",
       "         [-0.4138, -0.3825],\n",
       "         [ 0.2219,  0.1408],\n",
       "         [-0.5753,  0.3719]], requires_grad=True),\n",
       " Parameter containing:\n",
       " tensor([-0.5649,  0.3167, -0.3452, -0.1412,  0.1239], requires_grad=True),\n",
       " Parameter containing:\n",
       " tensor([[ 0.2234,  0.3385,  0.3073, -0.1301, -0.1544]], requires_grad=True),\n",
       " Parameter containing:\n",
       " tensor([-0.1761], requires_grad=True)]"
      ]
     },
     "execution_count": 10,
     "metadata": {},
     "output_type": "execute_result"
    }
   ],
   "source": [
    "list(model.parameters())"
   ]
  },
  {
   "cell_type": "code",
   "execution_count": 11,
   "metadata": {
    "ExecuteTime": {
     "end_time": "2022-09-07T05:38:34.805463Z",
     "start_time": "2022-09-07T05:38:34.802503Z"
    },
    "colab": {
     "base_uri": "https://localhost:8080/"
    },
    "executionInfo": {
     "elapsed": 3,
     "status": "ok",
     "timestamp": 1627372295994,
     "user": {
      "displayName": "IDLY",
      "photoUrl": "https://lh3.googleusercontent.com/a-/AOh14Gi_uASS8xEhdc3V54PmrlTtzc2dMylBAtC2MBQk0w=s64",
      "userId": "01051119595489469234"
     },
     "user_tz": -540
    },
    "id": "VNhtB-OnkiVZ",
    "outputId": "3a981bd4-c148-4b9c-c16a-cafe4f84e7b3"
   },
   "outputs": [
    {
     "data": {
      "text/plain": [
       "[None, None, None, None]"
      ]
     },
     "execution_count": 11,
     "metadata": {},
     "output_type": "execute_result"
    }
   ],
   "source": [
    "[p.grad for p in model.parameters()]"
   ]
  },
  {
   "cell_type": "code",
   "execution_count": 12,
   "metadata": {
    "ExecuteTime": {
     "end_time": "2022-09-07T05:38:35.329506Z",
     "start_time": "2022-09-07T05:38:35.325283Z"
    },
    "colab": {
     "base_uri": "https://localhost:8080/"
    },
    "executionInfo": {
     "elapsed": 3,
     "status": "ok",
     "timestamp": 1627372295995,
     "user": {
      "displayName": "IDLY",
      "photoUrl": "https://lh3.googleusercontent.com/a-/AOh14Gi_uASS8xEhdc3V54PmrlTtzc2dMylBAtC2MBQk0w=s64",
      "userId": "01051119595489469234"
     },
     "user_tz": -540
    },
    "id": "FcjfUFD8fmff",
    "outputId": "09a9cbd6-8e70-4ee6-8eab-01de89192bbd"
   },
   "outputs": [
    {
     "name": "stdout",
     "output_type": "stream",
     "text": [
      "Before Training, test loss is 0.7003147602081299\n"
     ]
    }
   ],
   "source": [
    "model.eval()\n",
    "test_loss_before = criterion(model(x_test).squeeze(), y_test)\n",
    "print('Before Training, test loss is {}'.format(test_loss_before.item()))"
   ]
  },
  {
   "cell_type": "code",
   "execution_count": 13,
   "metadata": {
    "ExecuteTime": {
     "end_time": "2022-09-07T05:38:35.849467Z",
     "start_time": "2022-09-07T05:38:35.843665Z"
    },
    "executionInfo": {
     "elapsed": 278,
     "status": "ok",
     "timestamp": 1627372296569,
     "user": {
      "displayName": "IDLY",
      "photoUrl": "https://lh3.googleusercontent.com/a-/AOh14Gi_uASS8xEhdc3V54PmrlTtzc2dMylBAtC2MBQk0w=s64",
      "userId": "01051119595489469234"
     },
     "user_tz": -540
    },
    "id": "sk7Y9iEltVeS"
   },
   "outputs": [],
   "source": [
    "model.train()\n",
    "optimizer.zero_grad()\n",
    "train_output = model(x_train)\n",
    "train_loss = criterion(train_output.squeeze(), y_train)\n",
    "train_loss.backward()\n",
    "optimizer.step()"
   ]
  },
  {
   "cell_type": "code",
   "execution_count": 14,
   "metadata": {
    "ExecuteTime": {
     "end_time": "2022-09-07T05:38:37.069114Z",
     "start_time": "2022-09-07T05:38:37.066811Z"
    }
   },
   "outputs": [],
   "source": [
    "import os\n",
    "path = './ckpt'\n",
    "if not os.path.isdir(path):\n",
    "    os.mkdir(path)"
   ]
  },
  {
   "cell_type": "code",
   "execution_count": 15,
   "metadata": {
    "ExecuteTime": {
     "end_time": "2022-09-07T05:38:52.300489Z",
     "start_time": "2022-09-07T05:38:52.295218Z"
    },
    "colab": {
     "base_uri": "https://localhost:8080/"
    },
    "executionInfo": {
     "elapsed": 900,
     "status": "ok",
     "timestamp": 1627372297468,
     "user": {
      "displayName": "IDLY",
      "photoUrl": "https://lh3.googleusercontent.com/a-/AOh14Gi_uASS8xEhdc3V54PmrlTtzc2dMylBAtC2MBQk0w=s64",
      "userId": "01051119595489469234"
     },
     "user_tz": -540
    },
    "id": "YfPevo3Sfmfg",
    "outputId": "cf421799-8853-466e-ced9-2594561b7dd5"
   },
   "outputs": [
    {
     "name": "stdout",
     "output_type": "stream",
     "text": [
      "0    | Train loss: 0.700487\n"
     ]
    }
   ],
   "source": [
    "for epoch in range(0, epochs+1):\n",
    "    model.train()\n",
    "    optimizer.zero_grad()\n",
    "    train_output = model(x_train)\n",
    "    train_loss = criterion(train_output.squeeze(), y_train)\n",
    "    if epoch % 100 == 0:\n",
    "        print(f'{epoch:<4} | Train loss: {train_loss.item():.6f}')\n",
    "        torch.save(model.state_dict(), './ckpt/model_epoch{}.pt'.format(epoch))\n",
    "    train_loss.backward()\n",
    "    optimizer.step()"
   ]
  },
  {
   "cell_type": "code",
   "execution_count": 197,
   "metadata": {
    "ExecuteTime": {
     "end_time": "2022-09-05T12:28:23.238998Z",
     "start_time": "2022-09-05T12:28:23.236383Z"
    },
    "colab": {
     "base_uri": "https://localhost:8080/"
    },
    "executionInfo": {
     "elapsed": 5,
     "status": "ok",
     "timestamp": 1627372297469,
     "user": {
      "displayName": "IDLY",
      "photoUrl": "https://lh3.googleusercontent.com/a-/AOh14Gi_uASS8xEhdc3V54PmrlTtzc2dMylBAtC2MBQk0w=s64",
      "userId": "01051119595489469234"
     },
     "user_tz": -540
    },
    "id": "bqQLXlsefmfg",
    "outputId": "150dd133-f0bb-4ac8-c335-4f5b7a3c35a2"
   },
   "outputs": [
    {
     "name": "stdout",
     "output_type": "stream",
     "text": [
      "After Training, test loss is 0.2600817084312439\n"
     ]
    }
   ],
   "source": [
    "model.eval()\n",
    "test_loss = criterion(model(x_test).squeeze(), y_test)\n",
    "print('After Training, test loss is {}'.format(test_loss.item()))"
   ]
  },
  {
   "cell_type": "code",
   "execution_count": 198,
   "metadata": {
    "ExecuteTime": {
     "end_time": "2022-09-05T12:28:23.266791Z",
     "start_time": "2022-09-05T12:28:23.263330Z"
    },
    "colab": {
     "base_uri": "https://localhost:8080/"
    },
    "id": "GIMYuQW5fmfg",
    "outputId": "d314cd16-9ad2-457f-bb30-b3de51b4f6fc"
   },
   "outputs": [
    {
     "data": {
      "text/plain": [
       "OrderedDict([('layer1.weight',\n",
       "              tensor([[-1.4647, -1.2714],\n",
       "                      [-0.1764,  0.2228],\n",
       "                      [ 0.2142,  1.5889],\n",
       "                      [-1.7974,  1.5136],\n",
       "                      [ 0.8125, -0.1187]])),\n",
       "             ('layer1.bias',\n",
       "              tensor([ 1.1937, -0.3160,  0.2591, -0.0355,  0.4900])),\n",
       "             ('layer2.weight',\n",
       "              tensor([[-2.1642, -0.1945, -1.1619,  2.2475,  0.6995]])),\n",
       "             ('layer2.bias', tensor([0.4420]))])"
      ]
     },
     "execution_count": 198,
     "metadata": {},
     "output_type": "execute_result"
    }
   ],
   "source": [
    "torch.save(model.state_dict(), './ckpt/model.pt')\n",
    "model.state_dict()"
   ]
  },
  {
   "cell_type": "code",
   "execution_count": 199,
   "metadata": {
    "ExecuteTime": {
     "end_time": "2022-09-05T12:28:23.452171Z",
     "start_time": "2022-09-05T12:28:23.448197Z"
    },
    "colab": {
     "base_uri": "https://localhost:8080/"
    },
    "id": "QN9bBKYDfmfh",
    "outputId": "b4591c90-a2a4-49a3-9942-3bad404d43aa"
   },
   "outputs": [
    {
     "name": "stdout",
     "output_type": "stream",
     "text": [
      "벡터 [0, 1]의 레이블은?\n",
      "0.8672293424606323\n"
     ]
    }
   ],
   "source": [
    "new_model = NeuralNet(2, 5)\n",
    "new_model.load_state_dict(torch.load('./ckpt/model.pt'))\n",
    "new_model.eval()\n",
    "print('벡터 [0, 1]의 레이블은?')\n",
    "print(new_model(torch.FloatTensor([0,1])).item())"
   ]
  },
  {
   "cell_type": "code",
   "execution_count": 200,
   "metadata": {
    "ExecuteTime": {
     "end_time": "2022-09-05T12:28:23.627490Z",
     "start_time": "2022-09-05T12:28:23.625097Z"
    },
    "id": "vxXvcsD_sMR5"
   },
   "outputs": [],
   "source": [
    "def binary_acc(y_pred, y_test):\n",
    "    y_pred_tag = torch.round((y_pred)).squeeze()\n",
    "    \n",
    "    correct_results_sum = (y_pred_tag == y_test).sum().float()\n",
    "    acc = correct_results_sum/y_test.shape[0]\n",
    "    acc = torch.round(acc * 100).item()\n",
    "    return acc"
   ]
  },
  {
   "cell_type": "code",
   "execution_count": 201,
   "metadata": {
    "ExecuteTime": {
     "end_time": "2022-09-05T12:28:23.803877Z",
     "start_time": "2022-09-05T12:28:23.799926Z"
    },
    "colab": {
     "base_uri": "https://localhost:8080/"
    },
    "id": "FF5561NFlknQ",
    "outputId": "0a612c91-8bd2-4182-8c2c-3a50796fde77"
   },
   "outputs": [
    {
     "name": "stdout",
     "output_type": "stream",
     "text": [
      "tensor([0., 0., 0., 0., 1., 1., 0., 1., 1., 1., 1., 0., 0., 1., 0., 0., 1., 1.,\n",
      "        0., 1.], grad_fn=<SqueezeBackward0>)\n",
      "tensor([0., 0., 0., 0., 1., 1., 0., 1., 1., 1., 1., 0., 0., 1., 0., 0., 1., 1.,\n",
      "        0., 1.])\n",
      "100.0\n"
     ]
    }
   ],
   "source": [
    "new_model.eval()\n",
    "print(torch.round(new_model(x_test)).squeeze())\n",
    "print(y_test)\n",
    "print(binary_acc(new_model(x_test), y_test))"
   ]
  },
  {
   "cell_type": "code",
   "execution_count": 202,
   "metadata": {
    "ExecuteTime": {
     "end_time": "2022-09-05T12:28:23.971729Z",
     "start_time": "2022-09-05T12:28:23.960644Z"
    },
    "colab": {
     "base_uri": "https://localhost:8080/"
    },
    "id": "bycGoSM6sqmc",
    "outputId": "32759cc9-6872-4dd5-b4f5-282e63d557d5"
   },
   "outputs": [
    {
     "name": "stdout",
     "output_type": "stream",
     "text": [
      "Epoch 0    | Test Accuracy: 35.0%\n",
      "Epoch 100  | Test Accuracy: 30.0%\n",
      "Epoch 200  | Test Accuracy: 35.0%\n",
      "Epoch 300  | Test Accuracy: 45.0%\n",
      "Epoch 400  | Test Accuracy: 50.0%\n",
      "Epoch 500  | Test Accuracy: 50.0%\n",
      "Epoch 600  | Test Accuracy: 50.0%\n",
      "Epoch 700  | Test Accuracy: 65.0%\n",
      "Epoch 800  | Test Accuracy: 70.0%\n",
      "Epoch 900  | Test Accuracy: 70.0%\n",
      "Epoch 1000 | Test Accuracy: 70.0%\n",
      "Epoch 1100 | Test Accuracy: 70.0%\n",
      "Epoch 1200 | Test Accuracy: 75.0%\n",
      "Epoch 1300 | Test Accuracy: 75.0%\n",
      "Epoch 1400 | Test Accuracy: 80.0%\n",
      "Epoch 1500 | Test Accuracy: 95.0%\n",
      "Epoch 1600 | Test Accuracy: 100.0%\n",
      "Epoch 1700 | Test Accuracy: 100.0%\n",
      "Epoch 1800 | Test Accuracy: 100.0%\n",
      "Epoch 1900 | Test Accuracy: 100.0%\n",
      "Epoch 2000 | Test Accuracy: 100.0%\n"
     ]
    }
   ],
   "source": [
    "for i in range(0, epochs+1, 100):\n",
    "    new_model = NeuralNet(2, 5)\n",
    "    new_model.load_state_dict(torch.load('./ckpt/model_epoch{}.pt'.format(i)))\n",
    "    new_model.eval()\n",
    "    print(f'Epoch {i:<4} | Test Accuracy: {binary_acc(new_model(x_test), y_test)}%')"
   ]
  },
  {
   "cell_type": "code",
   "execution_count": null,
   "metadata": {},
   "outputs": [],
   "source": []
  }
 ],
 "metadata": {
  "colab": {
   "collapsed_sections": [],
   "name": "[day2_2]Dot_classification[sol].ipynb",
   "provenance": [],
   "toc_visible": true
  },
  "hide_input": false,
  "kernelspec": {
   "display_name": "torch112",
   "language": "python",
   "name": "torch112"
  },
  "language_info": {
   "codemirror_mode": {
    "name": "ipython",
    "version": 3
   },
   "file_extension": ".py",
   "mimetype": "text/x-python",
   "name": "python",
   "nbconvert_exporter": "python",
   "pygments_lexer": "ipython3",
   "version": "3.9.12"
  },
  "varInspector": {
   "cols": {
    "lenName": 16,
    "lenType": 16,
    "lenVar": 40
   },
   "kernels_config": {
    "python": {
     "delete_cmd_postfix": "",
     "delete_cmd_prefix": "del ",
     "library": "var_list.py",
     "varRefreshCmd": "print(var_dic_list())"
    },
    "r": {
     "delete_cmd_postfix": ") ",
     "delete_cmd_prefix": "rm(",
     "library": "var_list.r",
     "varRefreshCmd": "cat(var_dic_list()) "
    }
   },
   "types_to_exclude": [
    "module",
    "function",
    "builtin_function_or_method",
    "instance",
    "_Feature"
   ],
   "window_display": false
  }
 },
 "nbformat": 4,
 "nbformat_minor": 1
}
